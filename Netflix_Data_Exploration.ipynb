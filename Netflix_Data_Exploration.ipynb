{
 "cells": [
  {
   "cell_type": "markdown",
   "metadata": {
    "application/vnd.databricks.v1+cell": {
     "cellMetadata": {},
     "inputWidgets": {},
     "nuid": "96816ed7-b08a-4ca3-abb9-f99880c3535d",
     "showTitle": false,
     "tableResultSettingsMap": {},
     "title": ""
    }
   },
   "source": [
    "\n",
    "## Overview\n",
    "\n",
    "This notebook will show you how to create and query a table or DataFrame that you uploaded to DBFS. [DBFS](https://docs.databricks.com/user-guide/dbfs-databricks-file-system.html) is a Databricks File System that allows you to store data for querying inside of Databricks. This notebook assumes that you have a file already inside of DBFS that you would like to read from.\n",
    "\n",
    "This notebook is written in **Python** so the default cell type is Python. However, you can use different languages by using the `%LANGUAGE` syntax. Python, Scala, SQL, and R are all supported."
   ]
  },
  {
   "cell_type": "code",
   "execution_count": 0,
   "metadata": {
    "application/vnd.databricks.v1+cell": {
     "cellMetadata": {
      "byteLimit": 2048000,
      "rowLimit": 10000
     },
     "inputWidgets": {},
     "nuid": "6482be4c-f067-47c9-b0ac-35c938b94601",
     "showTitle": false,
     "tableResultSettingsMap": {},
     "title": ""
    }
   },
   "outputs": [
    {
     "output_type": "display_data",
     "data": {
      "text/html": [
       "<style scoped>\n",
       "  .table-result-container {\n",
       "    max-height: 300px;\n",
       "    overflow: auto;\n",
       "  }\n",
       "  table, th, td {\n",
       "    border: 1px solid black;\n",
       "    border-collapse: collapse;\n",
       "  }\n",
       "  th, td {\n",
       "    padding: 5px;\n",
       "  }\n",
       "  th {\n",
       "    text-align: left;\n",
       "  }\n",
       "</style><div class='table-result-container'><table class='table-result'><thead style='background-color: white'><tr><th>show_id</th><th>type</th><th>title</th><th>director</th><th>cast</th><th>country</th><th>date_added</th><th>release_year</th><th>rating</th><th>duration</th><th>listed_in</th><th>description</th></tr></thead><tbody><tr><td>s1</td><td>Movie</td><td>Inception</td><td>Christopher Nolan</td><td>Leonardo DiCaprio</td><td>USA</td><td>September 1, 2020</td><td>2010</td><td>PG-13</td><td>148 min</td><td>Sci-Fi & Fantasy, Action</td><td>A thief who steals corporate secrets...</td></tr><tr><td>s2</td><td>TV Show</td><td>Breaking Bad</td><td>Vince Gilligan</td><td>Bryan Cranston</td><td>USA</td><td>January 1, 2021</td><td>2008</td><td>TV-MA</td><td>5 Seasons</td><td>Crime TV Shows, Drama</td><td>A chemistry teacher turned meth kingpin...</td></tr><tr><td>s3</td><td>Movie</td><td>The Irishman</td><td>Martin Scorsese</td><td>Robert De Niro</td><td>USA</td><td>November 27, 2019</td><td>2019</td><td>R</td><td>209 min</td><td>Dramas, Crime</td><td>A mob hitman recalls his past...</td></tr><tr><td>s4</td><td>Movie</td><td>Bird Box</td><td>Susanne Bier</td><td>Sandra Bullock</td><td>USA</td><td>December 14, 2018</td><td>2018</td><td>R</td><td>124 min</td><td>Horror Movies, Thriller</td><td>A woman must protect herself...</td></tr><tr><td>s5</td><td>TV Show</td><td>Stranger Things</td><td>The Duffer Brothers</td><td>Millie Bobby Brown</td><td>USA</td><td>July 15, 2016</td><td>2016</td><td>TV-14</td><td>3 Seasons</td><td>TV Sci-Fi & Fantasy, Drama</td><td>A group of kids uncover a dark secret...</td></tr></tbody></table></div>"
      ]
     },
     "metadata": {
      "application/vnd.databricks.v1+output": {
       "addedWidgets": {},
       "aggData": [],
       "aggError": "",
       "aggOverflow": false,
       "aggSchema": [],
       "aggSeriesLimitReached": false,
       "aggType": "",
       "arguments": {},
       "columnCustomDisplayInfos": {},
       "data": [
        [
         "s1",
         "Movie",
         "Inception",
         "Christopher Nolan",
         "Leonardo DiCaprio",
         "USA",
         "September 1, 2020",
         "2010",
         "PG-13",
         "148 min",
         "Sci-Fi & Fantasy, Action",
         "A thief who steals corporate secrets..."
        ],
        [
         "s2",
         "TV Show",
         "Breaking Bad",
         "Vince Gilligan",
         "Bryan Cranston",
         "USA",
         "January 1, 2021",
         "2008",
         "TV-MA",
         "5 Seasons",
         "Crime TV Shows, Drama",
         "A chemistry teacher turned meth kingpin..."
        ],
        [
         "s3",
         "Movie",
         "The Irishman",
         "Martin Scorsese",
         "Robert De Niro",
         "USA",
         "November 27, 2019",
         "2019",
         "R",
         "209 min",
         "Dramas, Crime",
         "A mob hitman recalls his past..."
        ],
        [
         "s4",
         "Movie",
         "Bird Box",
         "Susanne Bier",
         "Sandra Bullock",
         "USA",
         "December 14, 2018",
         "2018",
         "R",
         "124 min",
         "Horror Movies, Thriller",
         "A woman must protect herself..."
        ],
        [
         "s5",
         "TV Show",
         "Stranger Things",
         "The Duffer Brothers",
         "Millie Bobby Brown",
         "USA",
         "July 15, 2016",
         "2016",
         "TV-14",
         "3 Seasons",
         "TV Sci-Fi & Fantasy, Drama",
         "A group of kids uncover a dark secret..."
        ]
       ],
       "datasetInfos": [],
       "dbfsResultPath": null,
       "isJsonSchema": true,
       "metadata": {},
       "overflow": false,
       "plotOptions": {
        "customPlotOptions": {},
        "displayType": "table",
        "pivotAggregation": null,
        "pivotColumns": null,
        "xColumns": null,
        "yColumns": null
       },
       "removedWidgets": [],
       "schema": [
        {
         "metadata": "{}",
         "name": "show_id",
         "type": "\"string\""
        },
        {
         "metadata": "{}",
         "name": "type",
         "type": "\"string\""
        },
        {
         "metadata": "{}",
         "name": "title",
         "type": "\"string\""
        },
        {
         "metadata": "{}",
         "name": "director",
         "type": "\"string\""
        },
        {
         "metadata": "{}",
         "name": "cast",
         "type": "\"string\""
        },
        {
         "metadata": "{}",
         "name": "country",
         "type": "\"string\""
        },
        {
         "metadata": "{}",
         "name": "date_added",
         "type": "\"string\""
        },
        {
         "metadata": "{}",
         "name": "release_year",
         "type": "\"string\""
        },
        {
         "metadata": "{}",
         "name": "rating",
         "type": "\"string\""
        },
        {
         "metadata": "{}",
         "name": "duration",
         "type": "\"string\""
        },
        {
         "metadata": "{}",
         "name": "listed_in",
         "type": "\"string\""
        },
        {
         "metadata": "{}",
         "name": "description",
         "type": "\"string\""
        }
       ],
       "type": "table"
      }
     },
     "output_type": "display_data"
    },
    {
     "output_type": "stream",
     "name": "stdout",
     "output_type": "stream",
     "text": [
      "+-------+-------+---------------+-------------------+------------------+-------+-----------------+------------+------+---------+--------------------+--------------------+\n|show_id|   type|          title|           director|              cast|country|       date_added|release_year|rating| duration|           listed_in|         description|\n+-------+-------+---------------+-------------------+------------------+-------+-----------------+------------+------+---------+--------------------+--------------------+\n|     s1|  Movie|      Inception|  Christopher Nolan| Leonardo DiCaprio|    USA|September 1, 2020|        2010| PG-13|  148 min|Sci-Fi & Fantasy,...|A thief who steal...|\n|     s2|TV Show|   Breaking Bad|     Vince Gilligan|    Bryan Cranston|    USA|  January 1, 2021|        2008| TV-MA|5 Seasons|Crime TV Shows, D...|A chemistry teach...|\n|     s3|  Movie|   The Irishman|    Martin Scorsese|    Robert De Niro|    USA|November 27, 2019|        2019|     R|  209 min|       Dramas, Crime|A mob hitman reca...|\n|     s4|  Movie|       Bird Box|       Susanne Bier|    Sandra Bullock|    USA|December 14, 2018|        2018|     R|  124 min|Horror Movies, Th...|A woman must prot...|\n|     s5|TV Show|Stranger Things|The Duffer Brothers|Millie Bobby Brown|    USA|    July 15, 2016|        2016| TV-14|3 Seasons|TV Sci-Fi & Fanta...|A group of kids u...|\n+-------+-------+---------------+-------------------+------------------+-------+-----------------+------------+------+---------+--------------------+--------------------+\n\n"
     ]
    }
   ],
   "source": [
    "# File location and type\n",
    "file_location = \"/FileStore/tables/netflix_titles_sample.csv\"\n",
    "file_type = \"csv\"\n",
    "\n",
    "# CSV options\n",
    "infer_schema = \"false\"\n",
    "first_row_is_header = \"true\"\n",
    "delimiter = \",\"\n",
    "\n",
    "# The applied options are for CSV files. For other file types, these will be ignored.\n",
    "df = spark.read.format(file_type) \\\n",
    "  .option(\"inferSchema\", infer_schema) \\\n",
    "  .option(\"header\", first_row_is_header) \\\n",
    "  .option(\"sep\", delimiter) \\\n",
    "  .load(file_location)\n",
    "\n",
    "display(df)\n",
    "df.show()"
   ]
  },
  {
   "cell_type": "code",
   "execution_count": 0,
   "metadata": {
    "application/vnd.databricks.v1+cell": {
     "cellMetadata": {
      "byteLimit": 2048000,
      "rowLimit": 10000
     },
     "inputWidgets": {},
     "nuid": "bd82bb99-1479-4d5c-be10-8c36df0f1d44",
     "showTitle": false,
     "tableResultSettingsMap": {},
     "title": ""
    }
   },
   "outputs": [],
   "source": [
    "# Create a view or table\n",
    "\n",
    "temp_table_name = \"netflix_titles_sample_csv\"\n",
    "\n",
    "df.createOrReplaceTempView(temp_table_name)"
   ]
  },
  {
   "cell_type": "code",
   "execution_count": 0,
   "metadata": {
    "application/vnd.databricks.v1+cell": {
     "cellMetadata": {
      "byteLimit": 2048000,
      "implicitDf": true,
      "rowLimit": 10000
     },
     "inputWidgets": {},
     "nuid": "b5f66379-6f7f-42ec-8e82-d0e0926a1721",
     "showTitle": false,
     "tableResultSettingsMap": {},
     "title": ""
    }
   },
   "outputs": [],
   "source": [
    "%sql\n",
    "\n",
    "/* Query the created temp table in a SQL cell */\n",
    "\n",
    "select * from `netflix_titles_sample_csv`"
   ]
  },
  {
   "cell_type": "code",
   "execution_count": 0,
   "metadata": {
    "application/vnd.databricks.v1+cell": {
     "cellMetadata": {
      "byteLimit": 2048000,
      "rowLimit": 10000
     },
     "inputWidgets": {},
     "nuid": "db9631f6-bb4a-42ca-8a3c-0d48af932331",
     "showTitle": false,
     "tableResultSettingsMap": {},
     "title": ""
    }
   },
   "outputs": [],
   "source": [
    "# With this registered as a temp view, it will only be available to this particular notebook. If you'd like other users to be able to query this table, you can also create a table from the DataFrame.\n",
    "# Once saved, this table will persist across cluster restarts as well as allow various users across different notebooks to query this data.\n",
    "# To do so, choose your table name and uncomment the bottom line.\n",
    "\n",
    "permanent_table_name = \"netflix_titles_sample_csv\"\n",
    "\n",
    "# df.write.format(\"parquet\").saveAsTable(permanent_table_name)"
   ]
  },
  {
   "cell_type": "code",
   "execution_count": 0,
   "metadata": {
    "application/vnd.databricks.v1+cell": {
     "cellMetadata": {
      "byteLimit": 2048000,
      "rowLimit": 10000
     },
     "inputWidgets": {},
     "nuid": "84a1fd05-c7c6-49d9-9595-a6e4a6fae675",
     "showTitle": false,
     "tableResultSettingsMap": {},
     "title": ""
    }
   },
   "outputs": [
    {
     "output_type": "stream",
     "name": "stdout",
     "output_type": "stream",
     "text": [
      "+-------+-----+\n|   type|count|\n+-------+-----+\n|TV Show|    2|\n|  Movie|    3|\n+-------+-----+\n\n"
     ]
    }
   ],
   "source": [
    "df.groupBy(\"type\").count().show()\n"
   ]
  },
  {
   "cell_type": "code",
   "execution_count": 0,
   "metadata": {
    "application/vnd.databricks.v1+cell": {
     "cellMetadata": {
      "byteLimit": 2048000,
      "rowLimit": 10000
     },
     "inputWidgets": {},
     "nuid": "f6b9950f-d54d-4a7d-a832-eeadf06696e2",
     "showTitle": false,
     "tableResultSettingsMap": {},
     "title": ""
    }
   },
   "outputs": [
    {
     "output_type": "stream",
     "name": "stdout",
     "output_type": "stream",
     "text": [
      "+-------------------+-----+\n|              genre|count|\n+-------------------+-----+\n|              Drama|    2|\n|              Crime|    1|\n|           Thriller|    1|\n|   Sci-Fi & Fantasy|    1|\n|     Crime TV Shows|    1|\n|             Dramas|    1|\n|      Horror Movies|    1|\n|             Action|    1|\n|TV Sci-Fi & Fantasy|    1|\n+-------------------+-----+\n\n"
     ]
    }
   ],
   "source": [
    "from pyspark.sql.functions import split, explode, trim\n",
    "\n",
    "# Split listed_in into array of genres\n",
    "df_genres = df.withColumn(\"genre\", explode(split(df[\"listed_in\"], \",\")))\n",
    "\n",
    "# Remove extra spaces\n",
    "df_genres = df_genres.withColumn(\"genre\", trim(df_genres[\"genre\"]))\n",
    "\n",
    "# Group and count genres\n",
    "df_genres.groupBy(\"genre\").count().orderBy(\"count\", ascending=False).show()\n"
   ]
  },
  {
   "cell_type": "code",
   "execution_count": 0,
   "metadata": {
    "application/vnd.databricks.v1+cell": {
     "cellMetadata": {
      "byteLimit": 2048000,
      "rowLimit": 10000
     },
     "inputWidgets": {},
     "nuid": "ae9ddf3d-7ac2-4d85-8bb4-0822a4cc776e",
     "showTitle": false,
     "tableResultSettingsMap": {},
     "title": ""
    }
   },
   "outputs": [
    {
     "output_type": "stream",
     "name": "stdout",
     "output_type": "stream",
     "text": [
      "+------+-----+\n|rating|count|\n+------+-----+\n|     R|    2|\n| TV-MA|    1|\n| TV-14|    1|\n| PG-13|    1|\n+------+-----+\n\n"
     ]
    }
   ],
   "source": [
    "df.groupBy(\"rating\").count().orderBy(\"count\", ascending=False).show()"
   ]
  },
  {
   "cell_type": "code",
   "execution_count": 0,
   "metadata": {
    "application/vnd.databricks.v1+cell": {
     "cellMetadata": {
      "byteLimit": 2048000,
      "rowLimit": 10000
     },
     "inputWidgets": {},
     "nuid": "624957d1-99bb-4346-acdf-964982a4fd09",
     "showTitle": false,
     "tableResultSettingsMap": {},
     "title": ""
    }
   },
   "outputs": [
    {
     "output_type": "stream",
     "name": "stdout",
     "output_type": "stream",
     "text": [
      "+------------+--------+----------------+\n|       title|duration|duration_minutes|\n+------------+--------+----------------+\n|   Inception| 148 min|             148|\n|The Irishman| 209 min|             209|\n|    Bird Box| 124 min|             124|\n+------------+--------+----------------+\n\n"
     ]
    }
   ],
   "source": [
    "from pyspark.sql.functions import regexp_extract, col\n",
    "\n",
    "# Filter only Movies\n",
    "movies_df = df.filter(df[\"type\"] == \"Movie\")\n",
    "\n",
    "# Extract numeric duration from \"148 min\"\n",
    "movies_df = movies_df.withColumn(\"duration_minutes\", regexp_extract(col(\"duration\"), r\"(\\d+)\", 1).cast(\"int\"))\n",
    "\n",
    "# View results\n",
    "movies_df.select(\"title\", \"duration\", \"duration_minutes\").show()\n"
   ]
  },
  {
   "cell_type": "code",
   "execution_count": 0,
   "metadata": {
    "application/vnd.databricks.v1+cell": {
     "cellMetadata": {
      "byteLimit": 2048000,
      "rowLimit": 10000
     },
     "inputWidgets": {},
     "nuid": "c8ac55c7-966f-45d6-9730-408cfa33c2e2",
     "showTitle": false,
     "tableResultSettingsMap": {},
     "title": ""
    }
   },
   "outputs": [
    {
     "output_type": "stream",
     "name": "stdout",
     "output_type": "stream",
     "text": [
      "+------------------+\n|avg_movie_duration|\n+------------------+\n|160.33333333333334|\n+------------------+\n\n"
     ]
    }
   ],
   "source": [
    "from pyspark.sql.functions import avg\n",
    "\n",
    "movies_df.select(avg(\"duration_minutes\").alias(\"avg_movie_duration\")).show()\n"
   ]
  }
 ],
 "metadata": {
  "application/vnd.databricks.v1+notebook": {
   "computePreferences": null,
   "dashboards": [],
   "environmentMetadata": null,
   "inputWidgetPreferences": null,
   "language": "python",
   "notebookMetadata": {
    "mostRecentlyExecutedCommandWithImplicitDF": {
     "commandId": 79703683904543,
     "dataframes": [
      "_sqldf"
     ]
    },
    "pythonIndentUnit": 4
   },
   "notebookName": "Netflix_Data_Exploration",
   "widgets": {}
  }
 },
 "nbformat": 4,
 "nbformat_minor": 0
}